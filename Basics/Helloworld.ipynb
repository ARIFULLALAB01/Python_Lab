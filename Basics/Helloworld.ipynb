{
 "cells": [
  {
   "cell_type": "code",
   "execution_count": 3,
   "metadata": {},
   "outputs": [
    {
     "name": "stdout",
     "output_type": "stream",
     "text": [
      "helloworld\n"
     ]
    }
   ],
   "source": [
    "print(\"helloworld\")"
   ]
  },
  {
   "cell_type": "code",
   "execution_count": 2,
   "metadata": {},
   "outputs": [
    {
     "name": "stdout",
     "output_type": "stream",
     "text": [
      "11 is odd\n"
     ]
    }
   ],
   "source": [
    "number = 11\n",
    "if number % 2 == 0:\n",
    "    print(f\"{number} is even\")\n",
    "else:\n",
    "    print(f\"{number} is odd\")"
   ]
  },
  {
   "cell_type": "code",
   "execution_count": 5,
   "metadata": {},
   "outputs": [
    {
     "name": "stdout",
     "output_type": "stream",
     "text": [
      "helloworld\n"
     ]
    }
   ],
   "source": [
    "print(\"helloworld\")"
   ]
  },
  {
   "cell_type": "code",
   "execution_count": 7,
   "metadata": {},
   "outputs": [
    {
     "name": "stdout",
     "output_type": "stream",
     "text": [
      "11 is bokkalonumber\n"
     ]
    }
   ],
   "source": [
    "number = 11\n",
    "if number % 2 == 0:\n",
    "    print(f\"{number} is even\")\n",
    "else:\n",
    "    print(f\"{number} is bokkalonumber\")"
   ]
  },
  {
   "cell_type": "code",
   "execution_count": 8,
   "metadata": {},
   "outputs": [
    {
     "name": "stdout",
     "output_type": "stream",
     "text": [
      "even\n"
     ]
    }
   ],
   "source": [
    "number = 10\n",
    "remainder = number % 2\n",
    "if remainder == 0:\n",
    "    print(\"even\")\n",
    "else:\n",
    "    print(\"odd\")"
   ]
  },
  {
   "cell_type": "code",
   "execution_count": 9,
   "metadata": {},
   "outputs": [
    {
     "name": "stdout",
     "output_type": "stream",
     "text": [
      "im in if\n",
      "Positive number\n",
      "im in if => else\n",
      "im outside\n"
     ]
    }
   ],
   "source": [
    "num = 15\n",
    "if num >=0:\n",
    "    print(\"im in if\")\n",
    "    if num == 0:\n",
    "        print(\"Zero\")\n",
    "        print(\"im in if => if\")\n",
    "    else:\n",
    "        print(\"Positive number\")\n",
    "        print(\"im in if => else\")\n",
    "else:\n",
    "    print(\"Negative number\")\n",
    "    print(\"im in else\")\n",
    "print(\"im outside\")"
   ]
  },
  {
   "cell_type": "code",
   "execution_count": 10,
   "metadata": {},
   "outputs": [
    {
     "name": "stdout",
     "output_type": "stream",
     "text": [
      "im in if\n",
      "Zero\n",
      "im in if => if\n",
      "im outside\n"
     ]
    }
   ],
   "source": [
    "num = 0\n",
    "if num >=0:\n",
    "    print(\"im in if\")\n",
    "    if num == 0:\n",
    "        print(\"Zero\")\n",
    "        print(\"im in if => if\")\n",
    "    else:\n",
    "        print(\"Positive number\")\n",
    "        print(\"im in if => else\")\n",
    "else:\n",
    "    print(\"Negative number\")\n",
    "    print(\"im in else\")\n",
    "print(\"im outside\")"
   ]
  }
 ],
 "metadata": {
  "kernelspec": {
   "display_name": "Python 3",
   "language": "python",
   "name": "python3"
  },
  "language_info": {
   "codemirror_mode": {
    "name": "ipython",
    "version": 3
   },
   "file_extension": ".py",
   "mimetype": "text/x-python",
   "name": "python",
   "nbconvert_exporter": "python",
   "pygments_lexer": "ipython3",
   "version": "3.12.3"
  }
 },
 "nbformat": 4,
 "nbformat_minor": 2
}
