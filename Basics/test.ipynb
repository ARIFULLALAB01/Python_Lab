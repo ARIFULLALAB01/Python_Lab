{
 "cells": [
  {
   "cell_type": "code",
   "execution_count": 2,
   "metadata": {},
   "outputs": [],
   "source": [
    "maths = int(input(\"Enter the marks of maths: \"))\n",
    "science = int(input(\"Enter the marks of science: \"))\n",
    "social = int(input(\"Enter the marks of social: \"))\n",
    "average = (maths + science + social) // 3\n",
    "\n",
    "if average >= 90 and average <= 100:\n",
    "    print(\"A1\")\n",
    "elif average >= 80 and average < 90:\n",
    "    print(\"A2\")\n",
    "elif average >= 70 and average < 80:\n",
    "    print(\"B1\")\n",
    "elif average >= 60 and average < 70:\n",
    "    print(\"B2\")\n",
    "elif average >= 50 and average < 60:\n",
    "    print(\"C1\")\n",
    "elif average >= 40 and average < 50:\n",
    "    print(\"C2\")\n",
    "elif average >= 33 and average < 40:\n",
    "    print(\"D\")\n",
    "elif average <= 32:\n",
    "    print(\"F\")\n",
    "else:\n",
    "    print(\"Enter marks not petrol prices\")"
   ]
  }
 ],
 "metadata": {
  "kernelspec": {
   "display_name": "Python 3",
   "language": "python",
   "name": "python3"
  },
  "language_info": {
   "codemirror_mode": {
    "name": "ipython",
    "version": 3
   },
   "file_extension": ".py",
   "mimetype": "text/x-python",
   "name": "python",
   "nbconvert_exporter": "python",
   "pygments_lexer": "ipython3",
   "version": "3.12.3"
  }
 },
 "nbformat": 4,
 "nbformat_minor": 2
}
