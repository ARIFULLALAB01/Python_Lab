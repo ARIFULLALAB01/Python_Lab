{
 "cells": [
  {
   "cell_type": "code",
   "execution_count": 1,
   "metadata": {},
   "outputs": [
    {
     "name": "stdout",
     "output_type": "stream",
     "text": [
      "even\n"
     ]
    }
   ],
   "source": [
    "number = 10\n",
    "remainder = number % 2\n",
    "if remainder == 0:\n",
    "    print(\"even\")\n",
    "else:\n",
    "    print(\"odd\")"
   ]
  },
  {
   "cell_type": "code",
   "execution_count": 2,
   "metadata": {},
   "outputs": [
    {
     "name": "stdout",
     "output_type": "stream",
     "text": [
      "im in if\n",
      "Positive number\n",
      "im in if => else\n"
     ]
    }
   ],
   "source": [
    "num = 15\n",
    "if num >= 0:     \n",
    "    print(\"im in if\")\n",
    "    if num == 0:         \n",
    "        print(\"Zero\")         \n",
    "        print(\"im in if => if\")\n",
    "    else:         \n",
    "        print(\"Positive number\")         \n",
    "        print(\"im in if => else\")\n",
    "else:     \n",
    "    print(\"Negative number\")    \n",
    "    print(\"im in else\")\n",
    "    print(\"im outside\")"
   ]
  },
  {
   "cell_type": "code",
   "execution_count": 3,
   "metadata": {},
   "outputs": [
    {
     "name": "stdout",
     "output_type": "stream",
     "text": [
      "even\n",
      "finished executing\n"
     ]
    }
   ],
   "source": [
    "number = 10\n",
    "remainder = number % 2\n",
    "if remainder == 0:    \n",
    "    print(\"even\")\n",
    "else:    \n",
    "    print(\"odd\")\n",
    "print(\"finished executing\")"
   ]
  }
 ],
 "metadata": {
  "kernelspec": {
   "display_name": "Python 3",
   "language": "python",
   "name": "python3"
  },
  "language_info": {
   "codemirror_mode": {
    "name": "ipython",
    "version": 3
   },
   "file_extension": ".py",
   "mimetype": "text/x-python",
   "name": "python",
   "nbconvert_exporter": "python",
   "pygments_lexer": "ipython3",
   "version": "3.12.3"
  }
 },
 "nbformat": 4,
 "nbformat_minor": 2
}
